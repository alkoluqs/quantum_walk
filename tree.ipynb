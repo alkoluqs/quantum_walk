{
 "cells": [
  {
   "cell_type": "markdown",
   "metadata": {},
   "source": [
    "32 qubits 2^31 nodes ← cost time....(execution) Limitations\n",
    "Discussion about Future Work and Applications\n",
    "Many particle quantum random walk\n",
    "Simulation evolution of spatial entanglement in many-body physics problems. The graph is a 1D lattice with a particle on each node as initial state. Each particle has separate position and coin hilbert space H = (Hc ⊗ Hp)⊗M. The particles independantly evolve and don't interact. 3-particle system graph are easily implemented in quantum walk but more particles increase number of steps in quantum walk and measurement of entanglement become difficult. More efficient methods of quantum walk implementation will help increase the number of particle systems studied in evolution.\n",
    "Expansion of number of nodes on graph\n",
    "The graph implemented in this project is 3 qubits for 8 nodes and 1 qubit for coin operation. In total only 4 qubits are used for evolution. The total time for iterating through coin and shift operator is 16 seconds for 100 flips. We look at a real world problem that can be applied in quantum random walk on graphs with more nodes. Mapping enzymes as nodes on a graph to understand their evolution when in contact with mutagens only requires 33 nodes which can be mapped out on 7 qubit circuit. This will increase total time to 49 seconds for 100 flips. This is a scalable model which can continue to grow to map more complex graphs to problems.\n",
    "Time complexity for classcal computer (QC-simulator) get approximately  (𝑚+1𝑛+1)2\n",
    "(\n",
    "m\n",
    "+\n",
    "1\n",
    "n\n",
    "+\n",
    "1\n",
    ")\n",
    "2\n",
    "  if the number of nodes becomes  2𝑚\n",
    "2\n",
    "m\n",
    "  from  2𝑛\n",
    "2\n",
    "n\n",
    " . This value is based on number of qubits and roughly estimated.\n",
    "Expansion for more useful graphs\n",
    "The cycle graph represents a simple, linear memory architecture (ie. a string). More complicated graph structures, such as binary trees, require higher dimensional \"Grover\" coins. Such coins are n dimensional bits for graphs of n The paper [1] presents a generalized form for the grover coin  (𝐺𝑑)𝑖,𝑗=2𝑑−𝛿𝑖,𝑗\n",
    "(\n",
    "G\n",
    "d\n",
    ")\n",
    "i\n",
    ",\n",
    "j\n",
    "=\n",
    "2\n",
    "d\n",
    "−\n",
    "δ\n",
    "i\n",
    ",\n",
    "j\n",
    " , as well as a circuit for stitched tree of degree 4 that utilizes the Grover coin and the increment and decrement operators we previously defined. A Grover coin of rank  𝑑\n",
    "d\n",
    "  acts on  𝑑−1\n",
    "d\n",
    "−\n",
    "1\n",
    "  bit state.\n",
    "Conclusion\n",
    "In this notebook we showed the basics of Quantum Walk and implementation on Quantum Circuit. This algorithm requires  𝑛+1\n",
    "n\n",
    "+\n",
    "1\n",
    "  qubits for any cycle graph with  2𝑛\n",
    "2\n",
    "n\n",
    "  nodes.\n",
    "[1] https://arxiv.org/pdf/0706.0304.pdf"
   ]
  },
  {
   "cell_type": "code",
   "execution_count": null,
   "metadata": {},
   "outputs": [],
   "source": []
  }
 ],
 "metadata": {
  "kernelspec": {
   "display_name": "Python 3",
   "language": "python",
   "name": "python3"
  },
  "language_info": {
   "codemirror_mode": {
    "name": "ipython",
    "version": 3
   },
   "file_extension": ".py",
   "mimetype": "text/x-python",
   "name": "python",
   "nbconvert_exporter": "python",
   "pygments_lexer": "ipython3",
   "version": "3.7.0"
  }
 },
 "nbformat": 4,
 "nbformat_minor": 2
}
